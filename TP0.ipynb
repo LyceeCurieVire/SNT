{
 "cells": [
  {
   "cell_type": "markdown",
   "metadata": {},
   "source": [
    "# TP0 Python dans un notebook"
   ]
  },
  {
   "cell_type": "markdown",
   "metadata": {},
   "source": [
    "Un **notebook** est une suite de cellules dans lesquelles on peut écrire des instructions Python (les cellules de code), ou bien du texte en **markdown** (avec éventuellement des images, des tableaux, des liens vers des sites Web...)  "
   ]
  },
  {
   "cell_type": "markdown",
   "metadata": {},
   "source": [
    "En pressant Shift+Entrée, on peut exécuter une cellule de code, et le résultat de cette évaluation s'affiche alors en dessous de cette cellule.\n",
    "\n",
    "\n",
    "Essayer avec la cellule ci-dessous."
   ]
  },
  {
   "cell_type": "code",
   "execution_count": null,
   "metadata": {},
   "outputs": [],
   "source": [
    "2+2"
   ]
  },
  {
   "cell_type": "markdown",
   "metadata": {},
   "source": [
    "La combinaison de touches Alt-Entrée permet d'**insérer** une nouvelle cellule vide.\n",
    "\n",
    "Insérer quelques cellules ci-dessous."
   ]
  },
  {
   "cell_type": "code",
   "execution_count": null,
   "metadata": {},
   "outputs": [],
   "source": []
  },
  {
   "cell_type": "markdown",
   "metadata": {},
   "source": [
    "### Python comme calculatrice\n",
    "Les quatre opérations sont `+`,`-`,`*`,`/`, mais il y a aussi `//` pour le quotient dans la division entière, et `%` pour le reste dans la division entière.\n",
    "\n",
    "Pour les puissance on utilise `**`, et la notation scientifique est de la forme `3e8` par exemple, pour $3 \\times 10 ^8$."
   ]
  },
  {
   "cell_type": "code",
   "execution_count": null,
   "metadata": {},
   "outputs": [],
   "source": [
    "2*5+3"
   ]
  },
  {
   "cell_type": "code",
   "execution_count": null,
   "metadata": {},
   "outputs": [],
   "source": [
    "3**100"
   ]
  },
  {
   "cell_type": "code",
   "execution_count": null,
   "metadata": {},
   "outputs": [],
   "source": [
    "6.02e23"
   ]
  },
  {
   "cell_type": "markdown",
   "metadata": {},
   "source": [
    "Des valeurs séparées par des virgules forment ce qu'on appelle un *tuple*, ici cela nous permet d'afficher les résultats de plusieurs calculs par cellule.\n",
    "\n",
    "Les tuples sont affichés entre des parenthèses."
   ]
  },
  {
   "cell_type": "code",
   "execution_count": null,
   "metadata": {},
   "outputs": [],
   "source": [
    "3567//100 , 3567%100 , 2**35, 2**35%7"
   ]
  },
  {
   "cell_type": "code",
   "execution_count": null,
   "metadata": {},
   "outputs": [],
   "source": [
    "3567/100, 2**(35%7)"
   ]
  },
  {
   "cell_type": "code",
   "execution_count": null,
   "metadata": {},
   "outputs": [],
   "source": []
  },
  {
   "cell_type": "markdown",
   "metadata": {},
   "source": [
    "### Stocker un résultat dans une variable : l'affectation\n",
    "\n",
    "Le résultat d'un calcul peut être mémorisé et désigné par un nom, c'est ce qu'on appelle l'affectation."
   ]
  },
  {
   "cell_type": "code",
   "execution_count": null,
   "metadata": {},
   "outputs": [],
   "source": [
    "a=100"
   ]
  },
  {
   "cell_type": "code",
   "execution_count": null,
   "metadata": {},
   "outputs": [],
   "source": [
    "b=a**3"
   ]
  },
  {
   "cell_type": "code",
   "execution_count": null,
   "metadata": {},
   "outputs": [],
   "source": [
    "c=5*b"
   ]
  },
  {
   "cell_type": "markdown",
   "metadata": {},
   "source": [
    "La fonction `print` sert à afficher des valeurs."
   ]
  },
  {
   "cell_type": "code",
   "execution_count": null,
   "metadata": {},
   "outputs": [],
   "source": [
    "print(a,b,c)"
   ]
  },
  {
   "cell_type": "code",
   "execution_count": null,
   "metadata": {},
   "outputs": [],
   "source": [
    "a=12  "
   ]
  },
  {
   "cell_type": "code",
   "execution_count": null,
   "metadata": {},
   "outputs": [],
   "source": [
    "print(a,b,c)"
   ]
  },
  {
   "cell_type": "markdown",
   "metadata": {},
   "source": [
    "### Utiliser une **bibliothèque**\n",
    "\n",
    "Une bibliothèque est composée de variables et de fonctions qui doivent être **importées** pour être utilisées.\n",
    "\n",
    "Par exemple, la bibliothèque `math` contient la fonction racine carrée `sqrt` (pour *square root*), la constante `pi` ...\n",
    "\n",
    "Il y a plusieurs façons d'importer une bibliothèque.\n",
    "\n",
    "Tout ce qui suit le `#` sur une ligne est un commentaire, et n'est pas pris en compte par Python."
   ]
  },
  {
   "cell_type": "code",
   "execution_count": null,
   "metadata": {},
   "outputs": [],
   "source": [
    "import math  #ici il faut préfixer les fonctions et variables de la bibliothèque par le nom de cette bibliothèque\n",
    "print(math.sqrt(2))"
   ]
  },
  {
   "cell_type": "code",
   "execution_count": null,
   "metadata": {},
   "outputs": [],
   "source": [
    "from math import pi  #par contre là le nom pi va être connu sans qu'il soit nécessaire d'utiliser math en préfixe\n",
    "print(pi)"
   ]
  },
  {
   "cell_type": "code",
   "execution_count": null,
   "metadata": {},
   "outputs": [],
   "source": [
    "from math import *  #en informatique * se lit \"tout\" ou \"everything\"\n",
    "print(sqrt(pi))"
   ]
  },
  {
   "cell_type": "code",
   "execution_count": null,
   "metadata": {},
   "outputs": [],
   "source": [
    "dir(math)  #la liste de ce que contient la bibliothèque math"
   ]
  },
  {
   "cell_type": "code",
   "execution_count": null,
   "metadata": {},
   "outputs": [],
   "source": [
    "help(math)   #utilise l'ascenceur pour tout lire"
   ]
  },
  {
   "cell_type": "code",
   "execution_count": null,
   "metadata": {},
   "outputs": [],
   "source": []
  },
  {
   "cell_type": "markdown",
   "metadata": {},
   "source": [
    "## Les six structures de base des algorithmes : affectation `=`, séquence, alternative `if`, boucle définie `for`, boucle indéfinie `while`, définition de fonction `def`\n",
    "\n",
    "En Python, le symbole `:` a un rôle très important, car il permet de commencer un *bloc d'instructions* qui seront exécutées ensemble. Ce `:` est suivi d'une **indentation** : les lignes suivantes sont décalées. La fin du bloc correspond à la fin de cette indentation."
   ]
  },
  {
   "cell_type": "code",
   "execution_count": null,
   "metadata": {},
   "outputs": [],
   "source": [
    "# une séquence est composée de plusieurs instructions exécutées les unes après les autres\n",
    "x=3\n",
    "y=5*x+10\n",
    "print(x,y)"
   ]
  },
  {
   "cell_type": "code",
   "execution_count": null,
   "metadata": {},
   "outputs": [],
   "source": [
    "# une alternative permet d'exécuter certaines instructions si une condition est vérifiée\n",
    "x=-10\n",
    "if x>0:\n",
    "    print('x est positif')\n",
    "else:\n",
    "    print('x est négatif')"
   ]
  },
  {
   "cell_type": "markdown",
   "metadata": {},
   "source": [
    "Modifier l'affectation de la cellule précédente en `x=20` et ré-exécuter la cellule."
   ]
  },
  {
   "cell_type": "code",
   "execution_count": null,
   "metadata": {},
   "outputs": [],
   "source": [
    "# définir une fonction permet de réutiliser plusieurs fois les mêmes instructions\n",
    "def signe(x):\n",
    "    if x>0:\n",
    "        return 'positif'\n",
    "    elif x==0:\n",
    "        return 'nul'\n",
    "    else:\n",
    "        return 'négatif'"
   ]
  },
  {
   "cell_type": "code",
   "execution_count": null,
   "metadata": {},
   "outputs": [],
   "source": [
    "signe(12), signe(0), signe (-3.5) # le séparateur décimal est le point, pas la virgule, à l'anglaise"
   ]
  },
  {
   "cell_type": "markdown",
   "metadata": {},
   "source": [
    "### Une fonction mathématique\n",
    "\n",
    "En exécutant la première cellule, rien ne s'afifche ; on a seulement défini une fonction, mais on n'a pas effectué de calcul. Par contre dans la cellule suivante la fonction est appelée, et le résultat affiché sera l'image de 10."
   ]
  },
  {
   "cell_type": "code",
   "execution_count": null,
   "metadata": {},
   "outputs": [],
   "source": [
    "def f(x):\n",
    "    u=x+3\n",
    "    v=u**2\n",
    "    w=2*v\n",
    "    y=w-6\n",
    "    return y"
   ]
  },
  {
   "cell_type": "code",
   "execution_count": null,
   "metadata": {},
   "outputs": [],
   "source": [
    "f(10)"
   ]
  },
  {
   "cell_type": "markdown",
   "metadata": {},
   "source": [
    "La fonction est $f(x)=2(x+3)^2-6$, on trouve $f(10)=2(10+3)^2-6=2\\times13^2-6=2\\times169-6=338-6=332$."
   ]
  },
  {
   "cell_type": "markdown",
   "metadata": {},
   "source": [
    "## Utiliser Pythontutor\n",
    "\n",
    "Le site <a href=\"pythontutor.com\"> python tutor</a> a été crée pour enseigner Python dans les lycées nord-américains, et permet de voir le déroulement pas-à-pas d'un programme Python, tout en visualisant le contenu des variables.\n",
    "\n",
    "En cliquant sur ce <a href=\"http://pythontutor.com/visualize.html#code=def%20f%28x%29%3A%0A%20%20%20%20u%3Dx%2B3%0A%20%20%20%20v%3Du**2%0A%20%20%20%20w%3D2*v%0A%20%20%20%20y%3Dw-6%0A%20%20%20%20return%20y%0A%20%20%20%20%0Af%2810%29&cumulative=false&curInstr=0&heapPrimitives=nevernest&mode=display&origin=opt-frontend.js&py=3&rawInputLstJSON=%5B%5D&textReferences=false\">lien</a>, on peut visualiser les calculs pour `f(10)`, en appuyant sur Next>.\n",
    "\n",
    "La cellule ci-dessous permet d'utiliser pythontutor à l'intérieur du notebook, en commençant une cellule par %%tutor."
   ]
  },
  {
   "cell_type": "code",
   "execution_count": null,
   "metadata": {},
   "outputs": [],
   "source": [
    "from metakernel import register_ipython_magics\n",
    "register_ipython_magics()"
   ]
  },
  {
   "cell_type": "code",
   "execution_count": null,
   "metadata": {},
   "outputs": [],
   "source": [
    "%%tutor\n",
    "\n",
    "def f(x):\n",
    "    u=x+3\n",
    "    v=u**2\n",
    "    w=2*v\n",
    "    y=w-6\n",
    "    return y\n",
    "\n",
    "print(f(10))"
   ]
  },
  {
   "cell_type": "markdown",
   "metadata": {},
   "source": [
    "### Une boucle définie\n",
    "On sait à l'avance combien de fois les instructions dans la boucle seront exécutées\n",
    "\n",
    "Par exemple on veut calculer la somme $1+2+3+\\dots+10$."
   ]
  },
  {
   "cell_type": "code",
   "execution_count": null,
   "metadata": {},
   "outputs": [],
   "source": [
    "%%tutor\n",
    "s=0\n",
    "for k in range(11):\n",
    "    s=s+k\n",
    "print(s)  #cet affichage ne se fera qu'une seule fois, il n'est pas dans la boucle"
   ]
  },
  {
   "cell_type": "markdown",
   "metadata": {},
   "source": [
    "Deux remarques importantes :\n",
    "* `s=s+k` n'est pas une égalté mathématique, mais une *affectation* ; on prend l'*ancienne * valeur de `s`, on ajoute la valeur de `k`, et le résultat est la nouvelle valeur de `s`\n",
    "* `range(11)` contient tous les entiers de $0$ à $10$, le `11` est exclus. \n",
    "\n",
    "Regarder les derniers tours de boucle avec Pythontutor ; modifier 11 en 10 et recommmencer le calcul. "
   ]
  },
  {
   "cell_type": "code",
   "execution_count": null,
   "metadata": {},
   "outputs": [],
   "source": [
    "#comparer avec la version précédente\n",
    "s=0\n",
    "for k in range(11):\n",
    "    s=s+k\n",
    "    print(s)"
   ]
  },
  {
   "cell_type": "markdown",
   "metadata": {},
   "source": [
    "### Une boucle indéfinie\n",
    "Cela signifie qu'on ne sait pas à l'avance combien on va faire de tours de boucle.\n",
    "\n",
    "Ici on veut encadrer un nombre x entre deux puissances de 2. \n",
    "\n",
    "On compte combien de divisions (entières) par 2 sont nécessiares pour arrier à zéro."
   ]
  },
  {
   "cell_type": "code",
   "execution_count": null,
   "metadata": {},
   "outputs": [],
   "source": [
    "%%tutor\n",
    "x=10000\n",
    "n=0\n",
    "while x>0:\n",
    "    x=x//2\n",
    "    n=n+1\n",
    "    \n",
    "print(2**(n-1),2**n)"
   ]
  },
  {
   "cell_type": "markdown",
   "metadata": {},
   "source": [
    "### Types de base : booléens `bool`, entiers `int`, flottants `float`, chaînes de caractères `str`\n",
    "\n",
    "Python peut calculer avec des nombres entiers (da taille arbitraire), mais aussi avec des booléens, qui sont des valeurs Vrai/Faux, avec des flottants : des nombres décimaux avec une précision limitée (comme sur calculatrice), des chaînes de caractère délimitées par des guillemets `\"blablabla\"` ou bien des apostrophes `'tructruc'`.\n",
    "\n",
    "Voici quelques manipulations sur ces types de données."
   ]
  },
  {
   "cell_type": "code",
   "execution_count": null,
   "metadata": {},
   "outputs": [],
   "source": [
    "2+5.5 #le résultat est un flottant"
   ]
  },
  {
   "cell_type": "code",
   "execution_count": null,
   "metadata": {},
   "outputs": [],
   "source": [
    "2.3+3.7 #même quand le résultat devrait tomber juste"
   ]
  },
  {
   "cell_type": "code",
   "execution_count": null,
   "metadata": {},
   "outputs": [],
   "source": [
    "12/3 #la division décimale renvoie un flottant, même si la division tombe juste"
   ]
  },
  {
   "cell_type": "code",
   "execution_count": null,
   "metadata": {},
   "outputs": [],
   "source": [
    "0.1+0.2  #surprenant !"
   ]
  },
  {
   "cell_type": "code",
   "execution_count": null,
   "metadata": {},
   "outputs": [],
   "source": [
    "'bonjour'+'cher ami' #on appelle cette opération la concaténation"
   ]
  },
  {
   "cell_type": "code",
   "execution_count": null,
   "metadata": {},
   "outputs": [],
   "source": [
    "'bonjour'+' '+'cher ami'  #c'est mieux"
   ]
  },
  {
   "cell_type": "code",
   "execution_count": null,
   "metadata": {},
   "outputs": [],
   "source": [
    "'bla'*100 "
   ]
  },
  {
   "cell_type": "code",
   "execution_count": null,
   "metadata": {},
   "outputs": [],
   "source": [
    "6*7"
   ]
  },
  {
   "cell_type": "code",
   "execution_count": null,
   "metadata": {},
   "outputs": [],
   "source": [
    "str(6*7)  #str transforme une valeur en chaîne de carctères"
   ]
  },
  {
   "cell_type": "markdown",
   "metadata": {},
   "source": [
    "La fonction `type` donne le type d'une valeur (comme le nom l'indique)."
   ]
  },
  {
   "cell_type": "code",
   "execution_count": null,
   "metadata": {},
   "outputs": [],
   "source": [
    "type('abracadabra'), type(True), type(False), type(13*45), type(12/5)"
   ]
  },
  {
   "cell_type": "code",
   "execution_count": null,
   "metadata": {},
   "outputs": [],
   "source": [
    "len('abracadabra') # la fonction len donne la longueur (length) d'une chaîne de caractères"
   ]
  },
  {
   "cell_type": "code",
   "execution_count": null,
   "metadata": {},
   "outputs": [],
   "source": []
  },
  {
   "cell_type": "markdown",
   "metadata": {},
   "source": [
    "### Les opérateurs logiques\n",
    "On peut comparer des nombres (ou des objets plus généralement), avec `==` (à ne pas confondre avec l'opérateur d'affectation `=`), \n",
    "\n",
    "mais aussi `<`,`<=`,`>`,`>=`,`!=` (ce dernier symbole correspond à $\\neq$). "
   ]
  },
  {
   "cell_type": "code",
   "execution_count": null,
   "metadata": {},
   "outputs": [],
   "source": [
    "2+2==5"
   ]
  },
  {
   "cell_type": "code",
   "execution_count": null,
   "metadata": {},
   "outputs": [],
   "source": [
    "2+2>5,2+2<5,2+2!=5"
   ]
  },
  {
   "cell_type": "code",
   "execution_count": null,
   "metadata": {},
   "outputs": [],
   "source": [
    "'abc'<'dab' # on utilise l'orde alphabétique"
   ]
  },
  {
   "cell_type": "code",
   "execution_count": null,
   "metadata": {},
   "outputs": [],
   "source": [
    "x=10\n",
    "x>5 and x<12 #on peut combiner plusieurs conditions"
   ]
  },
  {
   "cell_type": "code",
   "execution_count": null,
   "metadata": {},
   "outputs": [],
   "source": [
    "x=30\n",
    "x<10 or x>=20"
   ]
  },
  {
   "cell_type": "code",
   "execution_count": null,
   "metadata": {},
   "outputs": [],
   "source": [
    "0.1+0.2==0.3"
   ]
  },
  {
   "cell_type": "code",
   "execution_count": null,
   "metadata": {},
   "outputs": [],
   "source": [
    "6*7=='42'"
   ]
  },
  {
   "cell_type": "code",
   "execution_count": null,
   "metadata": {},
   "outputs": [],
   "source": [
    "type(6*7), type('42')"
   ]
  },
  {
   "cell_type": "markdown",
   "metadata": {},
   "source": [
    "## Lire les données EXIF d'une image\n",
    "\n",
    "Les appareils photo numériques enregistrent des données sur chaque photo, en plus de l'image elle-même.\n",
    "\n",
    "Ces données EXIF contiennent la date, des informations techniques sur la prise de vue, sur l'appareil, éventuellement les coordonnées GPS...\n",
    "\n",
    "On va utiliser la bibliothèque `PIL.Image` pour lire et afficher ces données."
   ]
  },
  {
   "cell_type": "code",
   "execution_count": null,
   "metadata": {},
   "outputs": [],
   "source": [
    "import PIL.Image\n",
    "img=PIL.Image.open('arton.jpg')\n",
    "a=img._getexif()"
   ]
  },
  {
   "cell_type": "code",
   "execution_count": null,
   "metadata": {},
   "outputs": [],
   "source": [
    "a"
   ]
  },
  {
   "cell_type": "markdown",
   "metadata": {},
   "source": [
    "Le résultat est illisible, mais on peut consulter <a href=\"http://www.exiv2.org/tags.html\">exiv.org</a> pour connaître la signification de chaque élément.\n",
    "\n",
    "On remarque que la réponse est un ensemble de couples de la forme `clé numérique:valeur`."
   ]
  },
  {
   "cell_type": "code",
   "execution_count": null,
   "metadata": {},
   "outputs": [],
   "source": []
  },
  {
   "cell_type": "markdown",
   "metadata": {},
   "source": [
    "## La bibliothèque `folium`\n",
    "Cette bibliothèque utilise les données du projet OpenStreetMap (OSM) pour fficher des cartes interactives."
   ]
  },
  {
   "cell_type": "code",
   "execution_count": null,
   "metadata": {},
   "outputs": [],
   "source": [
    "import folium\n",
    "carte=folium.Map(location=[48.8394,-0.8982],zoom_start=18)"
   ]
  },
  {
   "cell_type": "code",
   "execution_count": null,
   "metadata": {},
   "outputs": [],
   "source": [
    "carte"
   ]
  },
  {
   "cell_type": "markdown",
   "metadata": {},
   "source": [
    "Et pour finir un exemple pris dans la <a href=\"https://python-visualization.github.io/folium/quickstart.html#Getting-Started\">documentation officielle</a> où on va chercher les donnés utiles sur un site Web avant de créer une carte."
   ]
  },
  {
   "cell_type": "code",
   "execution_count": null,
   "metadata": {},
   "outputs": [],
   "source": [
    "import pandas\n",
    "\n",
    "url = 'https://raw.githubusercontent.com/python-visualization/folium/master/examples/data'\n",
    "state_geo = f'{url}/us-states.json'\n",
    "state_unemployment = f'{url}/US_Unemployment_Oct2012.csv'\n",
    "state_data = pandas.read_csv(state_unemployment)\n",
    "\n",
    "m = folium.Map(location=[48, -102], zoom_start=3)\n",
    "\n",
    "folium.Choropleth(\n",
    "    geo_data=state_geo,\n",
    "    name='choropleth',\n",
    "    data=state_data,\n",
    "    columns=['State', 'Unemployment'],\n",
    "    key_on='feature.id',\n",
    "    fill_color='YlGn',\n",
    "    fill_opacity=0.7,\n",
    "    line_opacity=0.2,\n",
    "    legend_name='Unemployment Rate (%)'\n",
    ").add_to(m)\n",
    "\n",
    "folium.LayerControl().add_to(m)\n",
    "\n",
    "m"
   ]
  },
  {
   "cell_type": "code",
   "execution_count": null,
   "metadata": {},
   "outputs": [],
   "source": []
  },
  {
   "cell_type": "code",
   "execution_count": null,
   "metadata": {},
   "outputs": [],
   "source": []
  },
  {
   "cell_type": "code",
   "execution_count": null,
   "metadata": {},
   "outputs": [],
   "source": []
  }
 ],
 "metadata": {
  "kernelspec": {
   "display_name": "Python 3",
   "language": "python",
   "name": "python3"
  },
  "language_info": {
   "codemirror_mode": {
    "name": "ipython",
    "version": 3
   },
   "file_extension": ".py",
   "mimetype": "text/x-python",
   "name": "python",
   "nbconvert_exporter": "python",
   "pygments_lexer": "ipython3",
   "version": "3.8.2"
  }
 },
 "nbformat": 4,
 "nbformat_minor": 4
}
