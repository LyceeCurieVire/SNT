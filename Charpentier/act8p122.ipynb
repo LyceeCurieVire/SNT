{
 "cells": [
  {
   "cell_type": "markdown",
   "metadata": {},
   "source": [
    "SNT Activité 8 page 122 Tremblements de terre\n",
    "====================="
   ]
  },
  {
   "cell_type": "markdown",
   "metadata": {},
   "source": [
    "Ce notebook correspond à l'activité 8 page 122 du manuel, nous allons lire dans un fichier au format <a href=\"https://fr.wikipedia.org/wiki/Comma-separated_values\">csv</a> appelé Chap6_Earthquahke.csv la localisation et la date de tremblements de terre aux Antilles, puis visualiser ces tremblements de terre sur une carte.\n",
    "\n",
    "<em>On peut utiliser ce notebook en ligne sur <a href=\"mybinder.org/v2/gh/LyceeCurieVire/SNT/master\">mybinder</a> ou bien sur <a href=\"basthon.fr\">basthon</a>, mais on peut aussi utiliser EduPython ou Idle et y copier le code Python.</em> \n",
    "\n",
    "<strong>csv</strong> signifie \"comma separated values\", valeurs séparées par des virgules, mais le séparateur entre les valeurs peut être un autre symbole, ici on utilise le point-virgule. On peut ouvrir le fichier csv avec un éditeur de textes ou vbien un tableur, afin de voir son contenu."
   ]
  },
  {
   "cell_type": "markdown",
   "metadata": {},
   "source": [
    "## Lire et écrire des fichiers\n",
    "En Python on peut utiliser les fonctions `open`, `readline` et `close` pour ouvrir un fichier texte, en lire une ligne, et fermer le fichier.\n",
    "\n",
    "Ici on va ouvrir (`open`) le fichier en lecture (`'r'` pour read), mais parfois on ouvre un fichier pour y écrire (`'w'` pour write) ou pour y ajouter des lignes (`'a'` pour append).\n",
    "\n",
    "La méthode `readline()` va renvoyer une ligne du fichier à la fois ; lorsqu'on arrive à la fin du fichier, la méthode `readline()` renvoie une chaîne vide `''`. Attention, une ligne vide contient un caractère : le passage à la ligne `'\\n'`.\n",
    "\n",
    "La méthode `close()` sert à fermer le fichier, ce qui revient à dire au système d'exploitation qu'on a fini de travailler avec."
   ]
  },
  {
   "cell_type": "markdown",
   "metadata": {},
   "source": [
    "## Travailler avec des chaînes de caractères\n",
    "La méthode `readline()` va renvoyer une chaîne de caractères qui correspond à une ligne du fichier, et dans cette ligne on aura plusieurs valeurs. voici quelques fonctions utiles :\n",
    "* `strip()` élimine les caractères espace, tabulation `\\t` et retour à la ligne `\\n` au début et à la fin d'une chaîne.\n",
    "* `split()` permet de découper une chaîne en plusieurs parties en utilisant un caractère comme séparateur.\n",
    "* `join()` est l'opération inverse de `split()`"
   ]
  },
  {
   "cell_type": "code",
   "execution_count": null,
   "metadata": {},
   "outputs": [],
   "source": [
    "chaine=\"  \\t\\t un texte contenant une tabulation \\t qui n'est ni au début ni à la fin  \\n \\n\""
   ]
  },
  {
   "cell_type": "code",
   "execution_count": null,
   "metadata": {},
   "outputs": [],
   "source": [
    "print(chaine)"
   ]
  },
  {
   "cell_type": "code",
   "execution_count": null,
   "metadata": {},
   "outputs": [],
   "source": [
    "chaine2=chaine.strip()\n",
    "print(chaine2)"
   ]
  },
  {
   "cell_type": "code",
   "execution_count": null,
   "metadata": {},
   "outputs": [],
   "source": [
    "ligne='1690;  17.500;  -61.500'\n",
    "print(ligne)"
   ]
  },
  {
   "cell_type": "code",
   "execution_count": null,
   "metadata": {},
   "outputs": [],
   "source": [
    "ligne.split(';')"
   ]
  },
  {
   "cell_type": "code",
   "execution_count": null,
   "metadata": {},
   "outputs": [],
   "source": [
    "liste=['Legolas','Gimli','Aragorn']\n",
    "'#'.join(liste)"
   ]
  },
  {
   "cell_type": "markdown",
   "metadata": {},
   "source": [
    "## Tremblements de terre\n",
    "\n",
    "La boucle `while` permet d'afficher toutes les lignes, chacune son tour ;\n",
    "\n",
    "on commence par lire une ligne, si elle n'est pas vide on la découpe et on affiche les trois champs,\n",
    "\n",
    "et on lit la nouvelle ligne pour pouvoir recommencer la boucle."
   ]
  },
  {
   "cell_type": "code",
   "execution_count": null,
   "metadata": {},
   "outputs": [],
   "source": [
    "f=open(\"Chap6_Earthquake.csv\",\"r\")\n",
    "entete=f.readline()\n",
    "ligne=f.readline()\n",
    "while ligne!='':\n",
    "    annee,latitude,longitude=ligne.strip().split(';')\n",
    "    print(f\"En {annee}, tremblement de terre à la latitude {float(latitude)} et à la longitude {float(longitude)}\")\n",
    "    ligne=f.readline()\n",
    "f.close()"
   ]
  },
  {
   "cell_type": "code",
   "execution_count": null,
   "metadata": {},
   "outputs": [],
   "source": []
  },
  {
   "cell_type": "markdown",
   "metadata": {},
   "source": [
    "## Création d'une carte et affichage\n",
    "Suivant qu'on exécute ce notebook sur mybinder.org ou bien sur basthon.fr, le fichier Antilles.html sera plus ou moins facile à retrouver, c'est pourquoi on utilise aussi `display`. Avec EduPython, on pourra ouvrir le fichier Antilles.html avec un navigateur, ce fichier sera créé dans le répertoire où le code Python aura été sauvegardé."
   ]
  },
  {
   "cell_type": "code",
   "execution_count": null,
   "metadata": {},
   "outputs": [],
   "source": [
    "import folium\n",
    "carte=folium.Map(location=[16,-64],zoom_start=7)\n",
    "folium.Marker([16,-64],popup=\"Antilles\").add_to(carte)\n",
    "carte.save('Antilles.html')\n",
    "display(carte)"
   ]
  },
  {
   "cell_type": "markdown",
   "metadata": {},
   "source": [
    "## Localiser tous les tremblements de terre sur la carte\n",
    "On pourra remplacer le `print` situé dans la boucle par un `folium.Marker()`, en mettant la date dans le popup.\n",
    "\n",
    "Il faudra d'abord créer la carte, bien sûr, et ouvrir le fichier.\n",
    "\n",
    "Il est préférable de fermer le fichier avant d'afficher la carte."
   ]
  },
  {
   "cell_type": "code",
   "execution_count": null,
   "metadata": {},
   "outputs": [],
   "source": []
  },
  {
   "cell_type": "code",
   "execution_count": null,
   "metadata": {},
   "outputs": [],
   "source": []
  },
  {
   "cell_type": "code",
   "execution_count": null,
   "metadata": {},
   "outputs": [],
   "source": []
  },
  {
   "cell_type": "code",
   "execution_count": null,
   "metadata": {},
   "outputs": [],
   "source": []
  },
  {
   "cell_type": "markdown",
   "metadata": {},
   "source": [
    "## Pour aller plus loin\n",
    "Quelques exercices sur les données, https://pixees.fr/informatiquelycee/n_site/snt_donnees_type.html ;\n",
    "\n",
    "pour le site openweathermap on pourra utiliser l'APIKey 828483ddf37e1a094e2f5a688e426d7d "
   ]
  },
  {
   "cell_type": "code",
   "execution_count": null,
   "metadata": {},
   "outputs": [],
   "source": []
  }
 ],
 "metadata": {
  "kernelspec": {
   "display_name": "Python 3",
   "language": "python",
   "name": "python3"
  },
  "language_info": {
   "codemirror_mode": {
    "name": "ipython",
    "version": 3
   },
   "file_extension": ".py",
   "mimetype": "text/x-python",
   "name": "python",
   "nbconvert_exporter": "python",
   "pygments_lexer": "ipython3",
   "version": "3.8.5"
  }
 },
 "nbformat": 4,
 "nbformat_minor": 4
}
