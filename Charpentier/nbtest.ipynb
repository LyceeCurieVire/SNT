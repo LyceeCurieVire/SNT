{
 "cells": [
  {
   "cell_type": "markdown",
   "metadata": {},
   "source": [
    "Un notebook utilisant un fichier\n",
    "=========================\n",
    "L'objectif de ce notebook est de vérifier que chacun est capable de travailler sur un notebook en ligne, de le télécharger (avant ou après), et de le rendre via pronote.\n",
    "\n",
    "En particulier, ce notebook utilise un fichier texte nombres.txt qui contient un nombre entier par ligne ; cela signifie que si on travaille avec <a href=\"basthon.fr\">basthon</a> ou avec EduPython, il faut mettre ce fichier texte au même endroit que le notebook pour qu'il soit accessible.\n"
   ]
  },
  {
   "cell_type": "code",
   "execution_count": null,
   "metadata": {},
   "outputs": [],
   "source": []
  },
  {
   "cell_type": "markdown",
   "metadata": {},
   "source": [
    "## Numération et opérations\n",
    "On rappelle que les fonction `bin` et `hex` permettent de convertir un nombre de l'écriture décimale vers une chaîne de caractères donnant l'écriture binaire (préfixe `'Ob'`) ou hexadécimale (préfixe `'0x'`).\n"
   ]
  },
  {
   "cell_type": "code",
   "execution_count": null,
   "metadata": {},
   "outputs": [],
   "source": [
    "bin(1000)"
   ]
  },
  {
   "cell_type": "code",
   "execution_count": null,
   "metadata": {},
   "outputs": [],
   "source": [
    "0b11110000"
   ]
  },
  {
   "cell_type": "code",
   "execution_count": null,
   "metadata": {},
   "outputs": [],
   "source": [
    "hex(240)"
   ]
  },
  {
   "cell_type": "code",
   "execution_count": null,
   "metadata": {},
   "outputs": [],
   "source": [
    "0x100"
   ]
  },
  {
   "cell_type": "markdown",
   "metadata": {},
   "source": [
    "\n",
    "Les six opérations sur les entiers sont l'addition `+`, la soustraction `-`, la multiplication `*`, l'exponentiation `**` (la mise à la puissance), la division entière `//` et le **modulo** `%` qui donne le **reste** dans la division euclidienne."
   ]
  },
  {
   "cell_type": "code",
   "execution_count": null,
   "metadata": {},
   "outputs": [],
   "source": [
    "159+42"
   ]
  },
  {
   "cell_type": "code",
   "execution_count": null,
   "metadata": {},
   "outputs": [],
   "source": [
    "350-3000"
   ]
  },
  {
   "cell_type": "code",
   "execution_count": null,
   "metadata": {},
   "outputs": [],
   "source": [
    "456*37"
   ]
  },
  {
   "cell_type": "code",
   "execution_count": null,
   "metadata": {},
   "outputs": [],
   "source": [
    "10**6"
   ]
  },
  {
   "cell_type": "code",
   "execution_count": null,
   "metadata": {},
   "outputs": [],
   "source": [
    "456**37"
   ]
  },
  {
   "cell_type": "code",
   "execution_count": null,
   "metadata": {},
   "outputs": [],
   "source": [
    "2**10"
   ]
  },
  {
   "cell_type": "code",
   "execution_count": null,
   "metadata": {},
   "outputs": [],
   "source": [
    "357//100"
   ]
  },
  {
   "cell_type": "code",
   "execution_count": null,
   "metadata": {},
   "outputs": [],
   "source": [
    "357%100"
   ]
  },
  {
   "cell_type": "code",
   "execution_count": null,
   "metadata": {},
   "outputs": [],
   "source": [
    "357%2"
   ]
  },
  {
   "cell_type": "markdown",
   "metadata": {},
   "source": [
    "## Lecture d'un fichier\n",
    "On commence par lire chaque ligne du fichier, en mettant le nombre dans une liste."
   ]
  },
  {
   "cell_type": "code",
   "execution_count": null,
   "metadata": {},
   "outputs": [],
   "source": [
    "listeNombres=[]  # au début on n'a encore lu aucun nombre, la liste est vide\n",
    "fichier=open('nombres.txt','r') # le paramètre 'r' signifie qu'on va lire le fichier (read)\n",
    "for ligne in fichier:  # pour chaque ligne du fichier\n",
    "    nombre=int(ligne)  # on transforme la ligne (qui est une chaîne de caractère) en entier\n",
    "    listeNombres.append(nombre)\n",
    "fichier.close()  # on ferme le fichier\n",
    "listeNombres[:10]  # on affiche les dix premiers éléments de la liste"
   ]
  },
  {
   "cell_type": "markdown",
   "metadata": {},
   "source": [
    "## Parcours d'une liste avec filtrage et accumulation\n",
    "\n",
    "On va parcourir la liste (examiner chaque nombre de la liste), filtrer (ne garder que les nombres pairs), et accumuler (ajouter tous ces nombres pairs)."
   ]
  },
  {
   "cell_type": "code",
   "execution_count": null,
   "metadata": {},
   "outputs": [],
   "source": [
    "somme=0                # la somme est nulle puisqu'on n'a pas commencé à ajouter de nombres\n",
    "for k in listeNombres: # parcours : pour chaque élément de la liste\n",
    "    if k%2==0:         # filtrage : si le reste dans la division de k par 2 est nul = si k est pair\n",
    "        somme=somme+k  # accumulation : on ajoute k à la somme\n",
    "print(somme)"
   ]
  },
  {
   "cell_type": "markdown",
   "metadata": {},
   "source": [
    "**Q1** Combien il y a-t-il de nombres en tout ?"
   ]
  },
  {
   "cell_type": "code",
   "execution_count": null,
   "metadata": {},
   "outputs": [],
   "source": []
  },
  {
   "cell_type": "markdown",
   "metadata": {},
   "source": [
    "**Q2** Quelle est la somme des nombres impairs ? "
   ]
  },
  {
   "cell_type": "code",
   "execution_count": null,
   "metadata": {},
   "outputs": [],
   "source": []
  },
  {
   "cell_type": "markdown",
   "metadata": {},
   "source": [
    "**Q3** Quel est le produit des nombres impairs ?"
   ]
  },
  {
   "cell_type": "code",
   "execution_count": null,
   "metadata": {},
   "outputs": [],
   "source": []
  },
  {
   "cell_type": "markdown",
   "metadata": {},
   "source": [
    "## Création d'un fichier de données aléatoires"
   ]
  },
  {
   "cell_type": "code",
   "execution_count": null,
   "metadata": {},
   "outputs": [],
   "source": [
    "# voilà comment on peut utiliser la bibliothèque random\n",
    "# et les fonctions open, write et close pour créer un fichier de données aléatoires\n",
    "from random import randint\n",
    "fichier=open('nombres.txt','w')\n",
    "for k in range(1000):\n",
    "    fichier.write(str(randint(1000,9999))+'\\n')\n",
    "fichier.close()"
   ]
  },
  {
   "cell_type": "code",
   "execution_count": null,
   "metadata": {},
   "outputs": [],
   "source": []
  }
 ],
 "metadata": {
  "kernelspec": {
   "display_name": "Python 3",
   "language": "python",
   "name": "python3"
  },
  "language_info": {
   "codemirror_mode": {
    "name": "ipython",
    "version": 3
   },
   "file_extension": ".py",
   "mimetype": "text/x-python",
   "name": "python",
   "nbconvert_exporter": "python",
   "pygments_lexer": "ipython3",
   "version": "3.8.5"
  }
 },
 "nbformat": 4,
 "nbformat_minor": 4
}
